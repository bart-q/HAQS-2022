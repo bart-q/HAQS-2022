{
 "cells": [
  {
   "cell_type": "markdown",
   "id": "e49b2809-be50-40fc-9def-e1b4b2dea910",
   "metadata": {},
   "source": [
    "# Verify Environment Setup in qBraid Lab"
   ]
  },
  {
   "cell_type": "code",
   "execution_count": 1,
   "id": "f9dd28ff-5072-4608-bfa7-79a818f9ab36",
   "metadata": {},
   "outputs": [],
   "source": [
    "#!rm ~/.qbraid/qbraidrc"
   ]
  },
  {
   "cell_type": "code",
   "execution_count": 3,
   "id": "922ca54b-451f-4f4f-8ac7-8ee27e510ad5",
   "metadata": {},
   "outputs": [
    {
     "name": "stdout",
     "output_type": "stream",
     "text": [
      "environments  qBraidCredits  quantum-jobs\n"
     ]
    }
   ],
   "source": [
    "#!ls ~/.qbraid"
   ]
  },
  {
   "cell_type": "code",
   "execution_count": 2,
   "id": "49937283-df96-4196-b156-1cc07ed56fbb",
   "metadata": {},
   "outputs": [],
   "source": [
    "#!cat ~/.qbraid/qbraidrc"
   ]
  },
  {
   "cell_type": "markdown",
   "id": "51ef44b2-4225-4df1-aa85-007d826d81a3",
   "metadata": {
    "tags": []
   },
   "source": [
    "#### 1. Use the [qBraid CLI](https://qbraid-qbraid.readthedocs-hosted.com/en/latest/cli/qbraid.html) to verify that the HAQS-2022 environment is installed and active."
   ]
  },
  {
   "cell_type": "code",
   "execution_count": 1,
   "id": "4902893b-18c1-4acd-b0d4-f577c3a6f8f5",
   "metadata": {},
   "outputs": [
    {
     "name": "stdout",
     "output_type": "stream",
     "text": [
      "Installed environments:\u001b[0m\n",
      "\u001b[1;35mqsharp\n",
      "\u001b[1;35mdefault\n",
      "\u001b[1;35mhaqs\n",
      "\u001b[1;35mamazon_braket\n",
      "\u001b[1;35mpennylane\n",
      "\u001b[0mUse `qbraid envs -h` to see available commands.\n"
     ]
    }
   ],
   "source": [
    "# verify that `haqs` is listed under installed environments.\n",
    "!qbraid envs list"
   ]
  },
  {
   "cell_type": "code",
   "execution_count": 2,
   "id": "02574938-1171-48aa-9a8d-27154c8fd791",
   "metadata": {},
   "outputs": [
    {
     "name": "stdout",
     "output_type": "stream",
     "text": [
      "Available kernels:\n",
      "  iqsharp                      /home/jovyan/.local/share/jupyter/kernels/iqsharp\n",
      "  python3_aws_braket_kwx6dl    /home/jovyan/.local/share/jupyter/kernels/python3_aws_braket_kwx6dl\n",
      "  python3_haqs_dk5kt8          /home/jovyan/.local/share/jupyter/kernels/python3_haqs_dk5kt8\n",
      "  python3_xanadu_fil4xi        /home/jovyan/.local/share/jupyter/kernels/python3_xanadu_fil4xi\n",
      "  python3                      /opt/conda/share/jupyter/kernels/python3\n"
     ]
    }
   ],
   "source": [
    "# verify that `python3_haqs_dk5kt8` is listed under available kernels.\n",
    "!qbraid kernels list"
   ]
  },
  {
   "cell_type": "markdown",
   "id": "c8b6082a-3445-480f-8ef7-1e4d986114d5",
   "metadata": {},
   "source": [
    "#### 2. [Switch notebook kernel](https://qbraid-qbraid.readthedocs-hosted.com/en/latest/lab/kernels.html#switch-notebook-kernel) to `Python 3 [HAQS-2022]` and verify that qBraid quantum jobs are working."
   ]
  },
  {
   "cell_type": "code",
   "execution_count": 3,
   "id": "13fb6a7d-b16d-439e-bec8-5149bca262a6",
   "metadata": {},
   "outputs": [
    {
     "name": "stdout",
     "output_type": "stream",
     "text": [
      "\u001b[0;35mYou have already enabled qBraid Quantum Jobs in the haqs environment.\u001b[0m\n"
     ]
    }
   ],
   "source": [
    "# enable qBraid quantum jobs in `haqs` environment\n",
    "!qbraid jobs enable haqs"
   ]
  },
  {
   "cell_type": "code",
   "execution_count": 5,
   "id": "65f9330a-2e8c-43e6-b40a-e2d05b071e13",
   "metadata": {},
   "outputs": [],
   "source": [
    "#from braket.circuits import Circuit\n",
    "# create the Amazon Braket circuit\n",
    "#bell = Circuit().h(0).cnot(0, 1)\n",
    "#print(bell)"
   ]
  },
  {
   "cell_type": "code",
   "execution_count": 4,
   "id": "30c473d8-5b07-42a9-bf51-c66a755648ed",
   "metadata": {},
   "outputs": [],
   "source": [
    "import json\n",
    "from braket.aws import AwsDevice\n",
    "from braket.ocean_plugin import BraketSampler, BraketDWaveSampler"
   ]
  },
  {
   "cell_type": "code",
   "execution_count": 6,
   "id": "36fcb0c6-18bb-47eb-b1f6-4a52d4539afd",
   "metadata": {},
   "outputs": [],
   "source": [
    "# choose the cloud-based on-demand simulator to run your circuit\n",
    "#device = AwsDevice(\"arn:aws:braket:::device/quantum-simulator/amazon/dm1\")\n",
    "device = AwsDevice('arn:aws:braket:::device/qpu/d-wave/DW_2000Q_6') #D-Wave 2000Q\n",
    "#device = AwsDevice('arn:aws:braket:::device/qpu/d-wave/Advantage_system4') #D-Wave Advantage_system4.1"
   ]
  },
  {
   "cell_type": "code",
   "execution_count": 5,
   "id": "a7c3c172-b249-4f2f-be4e-3eeb97792b38",
   "metadata": {},
   "outputs": [],
   "source": [
    "# Use Braket SDK Cost Tracking to estimate the cost to run this example\n",
    "from braket.tracking import Tracker\n",
    "t = Tracker().start()"
   ]
  },
  {
   "cell_type": "code",
   "execution_count": 7,
   "id": "6f41efe9-f995-48ea-8c6b-8b80e5e211be",
   "metadata": {},
   "outputs": [],
   "source": [
    "import matplotlib.pyplot as plt\n",
    "# magic word for producing visualizations in notebook\n",
    "%matplotlib inline\n",
    "import networkx as nx\n",
    "import dwave_networkx as dnx\n",
    "from dimod.binary_quadratic_model import BinaryQuadraticModel\n",
    "from dwave.system.composites import EmbeddingComposite"
   ]
  },
  {
   "cell_type": "markdown",
   "id": "7ca8b626-e4c6-4735-ab2e-778c4892a5e3",
   "metadata": {},
   "source": [
    "Setting the Max-Cut problem"
   ]
  },
  {
   "cell_type": "code",
   "execution_count": 8,
   "id": "de299e6e-36b1-493f-826b-3f0d1cb0d740",
   "metadata": {},
   "outputs": [],
   "source": [
    "# helper function to plot graph\n",
    "def get_graph(graph, pos):\n",
    "    \"\"\"\n",
    "    plot colored graph for given solution\n",
    "    \"\"\"\n",
    "    # positions for all nodes\n",
    "    # pos = nx.spring_layout(graph)\n",
    "\n",
    "    # nodes\n",
    "    nx.draw_networkx_nodes(graph, pos, node_size=700)\n",
    "\n",
    "    # edges\n",
    "    nx.draw_networkx_edges(graph, pos)\n",
    "\n",
    "    # labels\n",
    "    nx.draw_networkx_labels(graph, pos, font_size=20, font_family='sans-serif')\n",
    "\n",
    "    # plot the graph\n",
    "    plt.axis('off')\n",
    "    #plt.savefig(\"figures/random_graph.png\") # save as png\n",
    "    plt.show();"
   ]
  },
  {
   "cell_type": "code",
   "execution_count": 9,
   "id": "2dbac4fb-5593-4655-928e-9a213c8ee115",
   "metadata": {},
   "outputs": [
    {
     "data": {
      "image/png": "[encoded data removed]",
      "text/plain": [
       "<Figure size 432x288 with 1 Axes>"
      ]
     },
     "metadata": {},
     "output_type": "display_data"
    }
   ],
   "source": [
    "# Copyright 2019 D-Wave Systems, Inc.\n",
    "#\n",
    "# Licensed under the Apache License, Version 2.0 (the \"License\");\n",
    "# you may not use this file except in compliance with the License.\n",
    "# You may obtain a copy of the License at\n",
    "#\n",
    "#     http://www.apache.org/licenses/LICENSE-2.0\n",
    "#\n",
    "# Unless required by applicable law or agreed to in writing, software\n",
    "# distributed under the License is distributed on an \"AS IS\" BASIS,\n",
    "# WITHOUT WARRANTIES OR CONDITIONS OF ANY KIND, either express or implied.\n",
    "# See the License for the specific language governing permissions and\n",
    "# limitations under the License.\n",
    "\n",
    "# ------ Import necessary packages ----\n",
    "from collections import defaultdict\n",
    "\n",
    "# from dwave.system.samplers import DWaveSampler\n",
    "# from dwave.system.composites import EmbeddingComposite\n",
    "\n",
    "# ------- Set up the graph -------\n",
    "\n",
    "# Create empty graph\n",
    "G = nx.Graph()\n",
    "\n",
    "# Add edges to the graph (also adds nodes)\n",
    "G.add_edges_from([(1,2),(1,3),(2,4),(3,4),(3,5),(4,5)])\n",
    "\n",
    "# plot graph\n",
    "pos = nx.spring_layout(G)\n",
    "# plot graph with labels\n",
    "get_graph(G, pos)\n",
    "\n",
    "# ------- Set up the QUBO dictionary -------\n",
    "\n",
    "# Initialize our Q matrix\n",
    "Q = defaultdict(int)\n",
    "\n",
    "# Update Q matrix for every edge in the graph\n",
    "for u, v in G.edges:\n",
    "    Q[(u,u)]+= -1\n",
    "    Q[(v,v)]+= -1\n",
    "    Q[(u,v)]+= 2\n",
    "\n",
    "# print Q matrix\n",
    "# print('Show Q matrix:', Q)"
   ]
  },
  {
   "cell_type": "markdown",
   "id": "58b52050-fc5a-479f-ab3f-980f256100bd",
   "metadata": {},
   "source": [
    "Solving the Max-Cut problem on D-Wave"
   ]
  },
  {
   "cell_type": "code",
   "execution_count": 12,
   "id": "9674e1ce-e1fd-433a-9131-0040db91df89",
   "metadata": {},
   "outputs": [
    {
     "ename": "ClientError",
     "evalue": "An error occurred (UnrecognizedClientException) when calling the GetDevice operation: The security token included in the request is invalid.",
     "output_type": "error",
     "traceback": [
      "\u001b[0;31m---------------------------------------------------------------------------\u001b[0m",
      "\u001b[0;31mClientError\u001b[0m                               Traceback (most recent call last)",
      "Cell \u001b[0;32mIn [12], line 8\u001b[0m\n\u001b[1;32m      4\u001b[0m numruns \u001b[38;5;241m=\u001b[39m \u001b[38;5;241m10\u001b[39m\n\u001b[1;32m      6\u001b[0m \u001b[38;5;66;03m# Run the QUBO on the Braket solver from your config file\u001b[39;00m\n\u001b[1;32m      7\u001b[0m \u001b[38;5;66;03m# set sampler\u001b[39;00m\n\u001b[0;32m----> 8\u001b[0m sampler \u001b[38;5;241m=\u001b[39m \u001b[43mBraketDWaveSampler\u001b[49m\u001b[43m(\u001b[49m\u001b[43mdevice_arn\u001b[49m\u001b[38;5;241;43m=\u001b[39;49m\u001b[38;5;124;43m'\u001b[39;49m\u001b[38;5;124;43marn:aws:braket:::device/qpu/d-wave/DW_2000Q_6\u001b[39;49m\u001b[38;5;124;43m'\u001b[39;49m\u001b[43m)\u001b[49m\n\u001b[1;32m      9\u001b[0m sampler \u001b[38;5;241m=\u001b[39m EmbeddingComposite(sampler)\n\u001b[1;32m     10\u001b[0m response \u001b[38;5;241m=\u001b[39m sampler\u001b[38;5;241m.\u001b[39msample_qubo(Q, chain_strength\u001b[38;5;241m=\u001b[39mchainstrength, num_reads\u001b[38;5;241m=\u001b[39mnumruns)\n",
      "File \u001b[0;32m~/.qbraid/environments/aws_braket_kwx6dl/pyenv/lib/python3.9/site-packages/braket/ocean_plugin/braket_dwave_sampler.py:57\u001b[0m, in \u001b[0;36mBraketDWaveSampler.__init__\u001b[0;34m(self, s3_destination_folder, device_arn, aws_session, logger)\u001b[0m\n\u001b[1;32m     50\u001b[0m \u001b[38;5;28;01mdef\u001b[39;00m \u001b[38;5;21m__init__\u001b[39m(\n\u001b[1;32m     51\u001b[0m     \u001b[38;5;28mself\u001b[39m,\n\u001b[1;32m     52\u001b[0m     s3_destination_folder: AwsSession\u001b[38;5;241m.\u001b[39mS3DestinationFolder \u001b[38;5;241m=\u001b[39m \u001b[38;5;28;01mNone\u001b[39;00m,\n\u001b[0;32m   (...)\u001b[0m\n\u001b[1;32m     55\u001b[0m     logger: Logger \u001b[38;5;241m=\u001b[39m getLogger(\u001b[38;5;18m__name__\u001b[39m),\n\u001b[1;32m     56\u001b[0m ):\n\u001b[0;32m---> 57\u001b[0m     \u001b[38;5;28;43msuper\u001b[39;49m\u001b[43m(\u001b[49m\u001b[43m)\u001b[49m\u001b[38;5;241;43m.\u001b[39;49m\u001b[38;5;21;43m__init__\u001b[39;49m\u001b[43m(\u001b[49m\u001b[43ms3_destination_folder\u001b[49m\u001b[43m,\u001b[49m\u001b[43m \u001b[49m\u001b[43mdevice_arn\u001b[49m\u001b[43m,\u001b[49m\u001b[43m \u001b[49m\u001b[43maws_session\u001b[49m\u001b[43m,\u001b[49m\u001b[43m \u001b[49m\u001b[43mlogger\u001b[49m\u001b[43m)\u001b[49m\n",
      "File \u001b[0;32m~/.qbraid/environments/aws_braket_kwx6dl/pyenv/lib/python3.9/site-packages/braket/ocean_plugin/braket_sampler.py:73\u001b[0m, in \u001b[0;36mBraketSampler.__init__\u001b[0;34m(self, s3_destination_folder, device_arn, aws_session, logger)\u001b[0m\n\u001b[1;32m     70\u001b[0m \u001b[38;5;28mself\u001b[39m\u001b[38;5;241m.\u001b[39m_device_arn \u001b[38;5;241m=\u001b[39m device_arn\n\u001b[1;32m     71\u001b[0m \u001b[38;5;28mself\u001b[39m\u001b[38;5;241m.\u001b[39m_logger \u001b[38;5;241m=\u001b[39m logger\n\u001b[0;32m---> 73\u001b[0m \u001b[38;5;28mself\u001b[39m\u001b[38;5;241m.\u001b[39msolver \u001b[38;5;241m=\u001b[39m \u001b[43mAwsDevice\u001b[49m\u001b[43m(\u001b[49m\u001b[43mdevice_arn\u001b[49m\u001b[43m,\u001b[49m\u001b[43m \u001b[49m\u001b[43maws_session\u001b[49m\u001b[43m)\u001b[49m\n\u001b[1;32m     74\u001b[0m user_agent \u001b[38;5;241m=\u001b[39m \u001b[38;5;124mf\u001b[39m\u001b[38;5;124m\"\u001b[39m\u001b[38;5;124mBraketOceanPlugin/\u001b[39m\u001b[38;5;132;01m{\u001b[39;00m__version__\u001b[38;5;132;01m}\u001b[39;00m\u001b[38;5;124m\"\u001b[39m\n\u001b[1;32m     75\u001b[0m \u001b[38;5;28mself\u001b[39m\u001b[38;5;241m.\u001b[39msolver\u001b[38;5;241m.\u001b[39maws_session\u001b[38;5;241m.\u001b[39madd_braket_user_agent(user_agent)\n",
      "File \u001b[0;32m~/.qbraid/environments/aws_braket_kwx6dl/pyenv/lib/python3.9/site-packages/braket/aws/aws_device.py:81\u001b[0m, in \u001b[0;36mAwsDevice.__init__\u001b[0;34m(self, arn, aws_session)\u001b[0m\n\u001b[1;32m     79\u001b[0m \u001b[38;5;28mself\u001b[39m\u001b[38;5;241m.\u001b[39m_topology_graph \u001b[38;5;241m=\u001b[39m \u001b[38;5;28;01mNone\u001b[39;00m\n\u001b[1;32m     80\u001b[0m \u001b[38;5;28mself\u001b[39m\u001b[38;5;241m.\u001b[39m_type \u001b[38;5;241m=\u001b[39m \u001b[38;5;28;01mNone\u001b[39;00m\n\u001b[0;32m---> 81\u001b[0m \u001b[38;5;28mself\u001b[39m\u001b[38;5;241m.\u001b[39m_aws_session \u001b[38;5;241m=\u001b[39m \u001b[38;5;28;43mself\u001b[39;49m\u001b[38;5;241;43m.\u001b[39;49m\u001b[43m_get_session_and_initialize\u001b[49m\u001b[43m(\u001b[49m\u001b[43maws_session\u001b[49m\u001b[43m \u001b[49m\u001b[38;5;129;43;01mor\u001b[39;49;00m\u001b[43m \u001b[49m\u001b[43mAwsSession\u001b[49m\u001b[43m(\u001b[49m\u001b[43m)\u001b[49m\u001b[43m)\u001b[49m\n",
      "File \u001b[0;32m~/.qbraid/environments/aws_braket_kwx6dl/pyenv/lib/python3.9/site-packages/braket/aws/aws_device.py:231\u001b[0m, in \u001b[0;36mAwsDevice._get_session_and_initialize\u001b[0;34m(self, session)\u001b[0m\n\u001b[1;32m    226\u001b[0m \u001b[38;5;28;01mdef\u001b[39;00m \u001b[38;5;21m_get_session_and_initialize\u001b[39m(\u001b[38;5;28mself\u001b[39m, session: AwsSession) \u001b[38;5;241m-\u001b[39m\u001b[38;5;241m>\u001b[39m AwsSession:\n\u001b[1;32m    227\u001b[0m     device_region \u001b[38;5;241m=\u001b[39m AwsDevice\u001b[38;5;241m.\u001b[39mget_device_region(\u001b[38;5;28mself\u001b[39m\u001b[38;5;241m.\u001b[39m_arn)\n\u001b[1;32m    228\u001b[0m     \u001b[38;5;28;01mreturn\u001b[39;00m (\n\u001b[1;32m    229\u001b[0m         \u001b[38;5;28mself\u001b[39m\u001b[38;5;241m.\u001b[39m_get_regional_device_session(session)\n\u001b[1;32m    230\u001b[0m         \u001b[38;5;28;01mif\u001b[39;00m device_region\n\u001b[0;32m--> 231\u001b[0m         \u001b[38;5;28;01melse\u001b[39;00m \u001b[38;5;28;43mself\u001b[39;49m\u001b[38;5;241;43m.\u001b[39;49m\u001b[43m_get_non_regional_device_session\u001b[49m\u001b[43m(\u001b[49m\u001b[43msession\u001b[49m\u001b[43m)\u001b[49m\n\u001b[1;32m    232\u001b[0m     )\n",
      "File \u001b[0;32m~/.qbraid/environments/aws_braket_kwx6dl/pyenv/lib/python3.9/site-packages/braket/aws/aws_device.py:259\u001b[0m, in \u001b[0;36mAwsDevice._get_non_regional_device_session\u001b[0;34m(self, session)\u001b[0m\n\u001b[1;32m    257\u001b[0m             \u001b[38;5;28;01mraise\u001b[39;00m \u001b[38;5;167;01mValueError\u001b[39;00m(\u001b[38;5;124mf\u001b[39m\u001b[38;5;124m\"\u001b[39m\u001b[38;5;124mSimulator \u001b[39m\u001b[38;5;124m'\u001b[39m\u001b[38;5;132;01m{\u001b[39;00m\u001b[38;5;28mself\u001b[39m\u001b[38;5;241m.\u001b[39m_arn\u001b[38;5;132;01m}\u001b[39;00m\u001b[38;5;124m'\u001b[39m\u001b[38;5;124m not found in \u001b[39m\u001b[38;5;124m'\u001b[39m\u001b[38;5;132;01m{\u001b[39;00mcurrent_region\u001b[38;5;132;01m}\u001b[39;00m\u001b[38;5;124m'\u001b[39m\u001b[38;5;124m\"\u001b[39m)\n\u001b[1;32m    258\u001b[0m     \u001b[38;5;28;01melse\u001b[39;00m:\n\u001b[0;32m--> 259\u001b[0m         \u001b[38;5;28;01mraise\u001b[39;00m e\n\u001b[1;32m    260\u001b[0m \u001b[38;5;66;03m# Search remaining regions for QPU\u001b[39;00m\n\u001b[1;32m    261\u001b[0m \u001b[38;5;28;01mfor\u001b[39;00m region \u001b[38;5;129;01min\u001b[39;00m \u001b[38;5;28mfrozenset\u001b[39m(AwsDevice\u001b[38;5;241m.\u001b[39mREGIONS) \u001b[38;5;241m-\u001b[39m {current_region}:\n",
      "File \u001b[0;32m~/.qbraid/environments/aws_braket_kwx6dl/pyenv/lib/python3.9/site-packages/braket/aws/aws_device.py:252\u001b[0m, in \u001b[0;36mAwsDevice._get_non_regional_device_session\u001b[0;34m(self, session)\u001b[0m\n\u001b[1;32m    250\u001b[0m current_region \u001b[38;5;241m=\u001b[39m session\u001b[38;5;241m.\u001b[39mregion\n\u001b[1;32m    251\u001b[0m \u001b[38;5;28;01mtry\u001b[39;00m:\n\u001b[0;32m--> 252\u001b[0m     \u001b[38;5;28;43mself\u001b[39;49m\u001b[38;5;241;43m.\u001b[39;49m\u001b[43m_populate_properties\u001b[49m\u001b[43m(\u001b[49m\u001b[43msession\u001b[49m\u001b[43m)\u001b[49m\n\u001b[1;32m    253\u001b[0m     \u001b[38;5;28;01mreturn\u001b[39;00m session\n\u001b[1;32m    254\u001b[0m \u001b[38;5;28;01mexcept\u001b[39;00m ClientError \u001b[38;5;28;01mas\u001b[39;00m e:\n",
      "File \u001b[0;32m~/.qbraid/environments/aws_braket_kwx6dl/pyenv/lib/python3.9/site-packages/braket/aws/aws_device.py:272\u001b[0m, in \u001b[0;36mAwsDevice._populate_properties\u001b[0;34m(self, session)\u001b[0m\n\u001b[1;32m    271\u001b[0m \u001b[38;5;28;01mdef\u001b[39;00m \u001b[38;5;21m_populate_properties\u001b[39m(\u001b[38;5;28mself\u001b[39m, session: AwsSession) \u001b[38;5;241m-\u001b[39m\u001b[38;5;241m>\u001b[39m \u001b[38;5;28;01mNone\u001b[39;00m:\n\u001b[0;32m--> 272\u001b[0m     metadata \u001b[38;5;241m=\u001b[39m \u001b[43msession\u001b[49m\u001b[38;5;241;43m.\u001b[39;49m\u001b[43mget_device\u001b[49m\u001b[43m(\u001b[49m\u001b[38;5;28;43mself\u001b[39;49m\u001b[38;5;241;43m.\u001b[39;49m\u001b[43m_arn\u001b[49m\u001b[43m)\u001b[49m\n\u001b[1;32m    273\u001b[0m     \u001b[38;5;28mself\u001b[39m\u001b[38;5;241m.\u001b[39m_name \u001b[38;5;241m=\u001b[39m metadata\u001b[38;5;241m.\u001b[39mget(\u001b[38;5;124m\"\u001b[39m\u001b[38;5;124mdeviceName\u001b[39m\u001b[38;5;124m\"\u001b[39m)\n\u001b[1;32m    274\u001b[0m     \u001b[38;5;28mself\u001b[39m\u001b[38;5;241m.\u001b[39m_status \u001b[38;5;241m=\u001b[39m metadata\u001b[38;5;241m.\u001b[39mget(\u001b[38;5;124m\"\u001b[39m\u001b[38;5;124mdeviceStatus\u001b[39m\u001b[38;5;124m\"\u001b[39m)\n",
      "File \u001b[0;32m~/.qbraid/environments/aws_braket_kwx6dl/pyenv/lib/python3.9/site-packages/braket/aws/aws_session.py:598\u001b[0m, in \u001b[0;36mAwsSession.get_device\u001b[0;34m(self, arn)\u001b[0m\n\u001b[1;32m    588\u001b[0m \u001b[38;5;28;01mdef\u001b[39;00m \u001b[38;5;21mget_device\u001b[39m(\u001b[38;5;28mself\u001b[39m, arn: \u001b[38;5;28mstr\u001b[39m) \u001b[38;5;241m-\u001b[39m\u001b[38;5;241m>\u001b[39m Dict[\u001b[38;5;28mstr\u001b[39m, Any]:\n\u001b[1;32m    589\u001b[0m     \u001b[38;5;124;03m\"\"\"\u001b[39;00m\n\u001b[1;32m    590\u001b[0m \u001b[38;5;124;03m    Calls the Amazon Braket `get_device` API to retrieve device metadata.\u001b[39;00m\n\u001b[1;32m    591\u001b[0m \n\u001b[0;32m   (...)\u001b[0m\n\u001b[1;32m    596\u001b[0m \u001b[38;5;124;03m        Dict[str, Any]: The response from the Amazon Braket `GetDevice` operation.\u001b[39;00m\n\u001b[1;32m    597\u001b[0m \u001b[38;5;124;03m    \"\"\"\u001b[39;00m\n\u001b[0;32m--> 598\u001b[0m     \u001b[38;5;28;01mreturn\u001b[39;00m \u001b[38;5;28;43mself\u001b[39;49m\u001b[38;5;241;43m.\u001b[39;49m\u001b[43mbraket_client\u001b[49m\u001b[38;5;241;43m.\u001b[39;49m\u001b[43mget_device\u001b[49m\u001b[43m(\u001b[49m\u001b[43mdeviceArn\u001b[49m\u001b[38;5;241;43m=\u001b[39;49m\u001b[43marn\u001b[49m\u001b[43m)\u001b[49m\n",
      "File \u001b[0;32m~/.qbraid/environments/aws_braket_kwx6dl/pyenv/lib/python3.9/site-packages/botocore/client.py:514\u001b[0m, in \u001b[0;36mClientCreator._create_api_method.<locals>._api_call\u001b[0;34m(self, *args, **kwargs)\u001b[0m\n\u001b[1;32m    510\u001b[0m     \u001b[38;5;28;01mraise\u001b[39;00m \u001b[38;5;167;01mTypeError\u001b[39;00m(\n\u001b[1;32m    511\u001b[0m         \u001b[38;5;124mf\u001b[39m\u001b[38;5;124m\"\u001b[39m\u001b[38;5;132;01m{\u001b[39;00mpy_operation_name\u001b[38;5;132;01m}\u001b[39;00m\u001b[38;5;124m() only accepts keyword arguments.\u001b[39m\u001b[38;5;124m\"\u001b[39m\n\u001b[1;32m    512\u001b[0m     )\n\u001b[1;32m    513\u001b[0m \u001b[38;5;66;03m# The \"self\" in this scope is referring to the BaseClient.\u001b[39;00m\n\u001b[0;32m--> 514\u001b[0m \u001b[38;5;28;01mreturn\u001b[39;00m \u001b[38;5;28;43mself\u001b[39;49m\u001b[38;5;241;43m.\u001b[39;49m\u001b[43m_make_api_call\u001b[49m\u001b[43m(\u001b[49m\u001b[43moperation_name\u001b[49m\u001b[43m,\u001b[49m\u001b[43m \u001b[49m\u001b[43mkwargs\u001b[49m\u001b[43m)\u001b[49m\n",
      "File \u001b[0;32m~/.qbraid/environments/aws_braket_kwx6dl/pyenv/lib/python3.9/site-packages/botocore/client.py:938\u001b[0m, in \u001b[0;36mBaseClient._make_api_call\u001b[0;34m(self, operation_name, api_params)\u001b[0m\n\u001b[1;32m    936\u001b[0m     error_code \u001b[38;5;241m=\u001b[39m parsed_response\u001b[38;5;241m.\u001b[39mget(\u001b[38;5;124m\"\u001b[39m\u001b[38;5;124mError\u001b[39m\u001b[38;5;124m\"\u001b[39m, {})\u001b[38;5;241m.\u001b[39mget(\u001b[38;5;124m\"\u001b[39m\u001b[38;5;124mCode\u001b[39m\u001b[38;5;124m\"\u001b[39m)\n\u001b[1;32m    937\u001b[0m     error_class \u001b[38;5;241m=\u001b[39m \u001b[38;5;28mself\u001b[39m\u001b[38;5;241m.\u001b[39mexceptions\u001b[38;5;241m.\u001b[39mfrom_code(error_code)\n\u001b[0;32m--> 938\u001b[0m     \u001b[38;5;28;01mraise\u001b[39;00m error_class(parsed_response, operation_name)\n\u001b[1;32m    939\u001b[0m \u001b[38;5;28;01melse\u001b[39;00m:\n\u001b[1;32m    940\u001b[0m     \u001b[38;5;28;01mreturn\u001b[39;00m parsed_response\n",
      "\u001b[0;31mClientError\u001b[0m: An error occurred (UnrecognizedClientException) when calling the GetDevice operation: The security token included in the request is invalid."
     ]
    }
   ],
   "source": [
    "# ------- Run the QUBO problem on the QPU -------\n",
    "# Set up QPU parameters\n",
    "chainstrength = 8\n",
    "numruns = 10\n",
    "\n",
    "# Run the QUBO on the Braket solver from your config file\n",
    "# set sampler\n",
    "sampler = BraketDWaveSampler(device_arn='arn:aws:braket:::device/qpu/d-wave/DW_2000Q_6')\n",
    "sampler = EmbeddingComposite(sampler)\n",
    "response = sampler.sample_qubo(Q, chain_strength=chainstrength, num_reads=numruns)\n",
    "energies = iter(response.data())\n",
    "\n",
    "# ------- Print results to user -------\n",
    "print('-' * 60)\n",
    "print('{:>15s}{:>15s}{:^15s}{:^15s}'.format('Set 0','Set 1','Energy','Cut Size'))\n",
    "print('-' * 60)\n",
    "for line in response:\n",
    "    S0 = [k for k,v in line.items() if v == 0]\n",
    "    S1 = [k for k,v in line.items() if v == 1]\n",
    "    E = next(energies).energy\n",
    "    print('{:>15s}{:>15s}{:^15s}{:^15s}'.format(str(S0),str(S1),str(E),str(int(-1*E))))\n",
    "\n",
    "# ------- Display results to user -------\n",
    "# Grab best result\n",
    "# Note: \"best\" result is the result with the lowest energy\n",
    "# Note2: the look up table (lut) is a dictionary, where the key is the node index\n",
    "#   and the value is the set label. For example, lut[5] = 1, indicates that\n",
    "#   node 5 is in set 1 (S1).\n",
    "lut = response.lowest().first.sample\n",
    "\n",
    "# Interpret best result in terms of nodes and edges\n",
    "S0 = [node for node in G.nodes if not lut[node]]\n",
    "S1 = [node for node in G.nodes if lut[node]]\n",
    "cut_edges = [(u, v) for u, v in G.edges if lut[u]!=lut[v]]\n",
    "uncut_edges = [(u, v) for u, v in G.edges if lut[u]==lut[v]]\n",
    "\n",
    "# Display best result\n",
    "pos = nx.spring_layout(G)\n",
    "nx.draw_networkx_nodes(G, pos, nodelist=S0, node_color='r')\n",
    "nx.draw_networkx_nodes(G, pos, nodelist=S1, node_color='c')\n",
    "nx.draw_networkx_edges(G, pos, edgelist=cut_edges, style='dashdot', alpha=0.5, width=3)\n",
    "nx.draw_networkx_edges(G, pos, edgelist=uncut_edges, style='solid', width=3)\n",
    "nx.draw_networkx_labels(G, pos)\n",
    "\n",
    "filename = \"maxcut_plot.png\"\n",
    "plt.savefig(filename, bbox_inches='tight')\n",
    "print(\"\\nYour plot is saved to {}\".format(filename))"
   ]
  },
  {
   "cell_type": "code",
   "execution_count": null,
   "id": "28f87a70-15a2-417f-8959-88e0b6c65b61",
   "metadata": {},
   "outputs": [],
   "source": [
    "print(\"Task Summary\")\n",
    "print(t.quantum_tasks_statistics())\n",
    "print('Note: Charges shown are estimates based on your Amazon Braket simulator and quantum processing unit (QPU) task usage. Estimated charges shown may differ from your actual charges. Estimated charges do not factor in any discounts or credits, and you may experience additional charges based on your use of other services such as Amazon Elastic Compute Cloud (Amazon EC2).')\n",
    "print(f\"Estimated cost to run this example: {t.qpu_tasks_cost() + t.simulator_tasks_cost()} USD\")"
   ]
  },
  {
   "cell_type": "code",
   "execution_count": 9,
   "id": "03126d6f-4a2d-4877-abbf-5ef867220fca",
   "metadata": {},
   "outputs": [
    {
     "name": "stdout",
     "output_type": "stream",
     "text": [
      "Sun Oct 30 2022 09:40:31 GMT+0000 (Coordinated Universal Time) arn:aws:braket:::device/quantum-simulator/amazon/dm1 arn:aws:braket:us-east-1:592242689881:quantum-task/0621c49d-0994-4186-a962-cc5418b9c75d\n",
      "\n"
     ]
    }
   ],
   "source": [
    "# list submitted jobs\n",
    "!qbraid jobs list"
   ]
  },
  {
   "cell_type": "code",
   "execution_count": 11,
   "id": "26c71ca0-837e-42f4-a17d-5ba5a2733f4b",
   "metadata": {},
   "outputs": [
    {
     "name": "stdout",
     "output_type": "stream",
     "text": [
      "\u001b[0;35mYou have \u001b[0m1499.59999988\u001b[0;35m remaining qBraid credits.\u001b[0m\n"
     ]
    }
   ],
   "source": [
    "# check remaining qBraid credits\n",
    "!qbraid jobs get-credits"
   ]
  },
  {
   "cell_type": "markdown",
   "id": "f6b3b76b-a1b2-4b04-8675-1cc1358f90bd",
   "metadata": {},
   "source": [
    "#### 3. Congrats! If all of these tests passed then you are ready to begin working on the HAQS challenges."
   ]
  }
 ],
 "metadata": {
  "kernelspec": {
   "display_name": "Python 3 [Braket]",
   "language": "python",
   "name": "python3_aws_braket_kwx6dl"
  },
  "language_info": {
   "codemirror_mode": {
    "name": "ipython",
    "version": 3
   },
   "file_extension": ".py",
   "mimetype": "text/x-python",
   "name": "python",
   "nbconvert_exporter": "python",
   "pygments_lexer": "ipython3",
   "version": "3.9.10"
  }
 },
 "nbformat": 4,
 "nbformat_minor": 5
}
