{
 "cells": [
  {
   "cell_type": "markdown",
   "id": "b9b747c2-010b-47fb-8d53-e6750d7ff9ab",
   "metadata": {},
   "source": [
    "# qBraid Open Challenge\n",
    "\n",
    "In this open challenge, submissions will be judged on the most creative/compelling use of the [qBraid-SDK](https://qbraid-qbraid.readthedocs-hosted.com/en/latest/sdk/overview.html). The only additional requirement is that you must in some way use [qBraid quantum jobs](https://github.com/qBraid/qbraid-lab-demo/blob/main/qbraid_quantum_jobs.ipynb) to interface with [Amazon Braket supported devices](https://docs.aws.amazon.com/braket/latest/developerguide/braket-devices.html).\n",
    "\n",
    "#### Resources\n",
    "\n",
    "- [qBraid demo notebooks](https://github.com/qBraid/qbraid-lab-demo)\n",
    "- [qBraid SDK: user guide](https://qbraid-qbraid.readthedocs-hosted.com/en/latest/sdk/overview.html)\n",
    "- [qBraid SDK: API reference](https://qbraid-qbraid.readthedocs-hosted.com/en/latest/api/qbraid.html)\n",
    "- [qBraid CLI: quantum jobs commands](https://qbraid-qbraid.readthedocs-hosted.com/en/latest/cli/jobs.html)"
   ]
  },
  {
   "cell_type": "code",
   "execution_count": 1,
   "id": "3187f53d-e3b7-4b40-8f16-93cfbe861f03",
   "metadata": {},
   "outputs": [
    {
     "name": "stdout",
     "output_type": "stream",
     "text": [
      "\u001b[0;35mYou have already enabled qBraid Quantum Jobs in the haqs environment.\u001b[0m\n"
     ]
    }
   ],
   "source": [
    "!qbraid jobs enable haqs"
   ]
  },
  {
   "cell_type": "code",
   "execution_count": 2,
   "id": "7eb6881d-8ea0-4bb9-8ae7-42873fd8fcdc",
   "metadata": {},
   "outputs": [],
   "source": [
    "TEAM_NAME = \"Kossakowski\"  # enter team name"
   ]
  },
  {
   "cell_type": "code",
   "execution_count": 3,
   "id": "07164ae2-fa84-4a77-ad8f-27fd69e5c4f6",
   "metadata": {},
   "outputs": [],
   "source": [
    "import qbraid\n",
    "\n",
    "from qbraid import (\n",
    "    get_devices,\n",
    "    get_jobs,\n",
    "    circuit_wrapper,\n",
    "    device_wrapper,\n",
    "    job_wrapper,\n",
    "    SUPPORTED_PROGRAM_TYPES,\n",
    ")\n",
    "from qbraid.api import ibmq_least_busy_qpu, verify_config\n",
    "from qbraid.interface import random_circuit, to_unitary, circuits_allclose, draw"
   ]
  },
  {
   "cell_type": "code",
   "execution_count": 4,
   "id": "7b859249-5da8-45f2-83dc-6fdf19ce62da",
   "metadata": {},
   "outputs": [
    {
     "data": {
      "text/plain": [
       "'0.1.4'"
      ]
     },
     "execution_count": 4,
     "metadata": {},
     "output_type": "execute_result"
    }
   ],
   "source": [
    "qbraid.__version__"
   ]
  },
  {
   "cell_type": "code",
   "execution_count": 6,
   "id": "af9b2254-c496-4196-80ec-6ccefb71dc63",
   "metadata": {},
   "outputs": [],
   "source": [
    "# Your code!\n",
    "#!pip install dimod\n",
    "#!pip install dwave-system\n",
    "#!pip install amazon-braket-sdk --user\n",
    "#!pip install amazon-braket-ocean-plugin"
   ]
  },
  {
   "cell_type": "code",
   "execution_count": 7,
   "id": "cf2fb63e-a39b-4efa-9294-65622a21564d",
   "metadata": {},
   "outputs": [],
   "source": [
    "from qbraid import get_devices, get_jobs, device_wrapper, job_wrapper\n",
    "from qbraid.interface import random_circuit\n",
    "from pprint import pprint as pp\n",
    "import dimod\n",
    "from braket.aws import AwsDevice\n",
    "from braket.ocean_plugin import BraketSampler, BraketDWaveSampler\n",
    "from dwave.system.composites import EmbeddingComposite"
   ]
  },
  {
   "cell_type": "code",
   "execution_count": 8,
   "id": "5e11b290-cd81-4b29-bbab-44aca37e0714",
   "metadata": {},
   "outputs": [
    {
     "data": {
      "text/html": [
       "<h3>Supported Devices</h3><table><tr>\n",
       "    <th style='text-align:left'>Provider</th>\n",
       "    <th style='text-align:left'>Name</th>\n",
       "    <th style='text-align:left'>qBraid ID</th>\n",
       "    <th style='text-align:left'>Status</th></tr>\n",
       "    <tr>\n",
       "        <td style='text-align:left'>D-Wave</td>\n",
       "        <td style='text-align:left'>Advantage_system4</td>\n",
       "        <td style='text-align:left'><code>aws_dwave_advantage_system4</code></td>\n",
       "        <td><span style='color:green'>●</span></td></tr>\n",
       "        <tr>\n",
       "        <td style='text-align:left'>D-Wave</td>\n",
       "        <td style='text-align:left'>DW_2000Q_6</td>\n",
       "        <td style='text-align:left'><code>aws_dwave_2000Q_6</code></td>\n",
       "        <td><span style='color:green'>●</span></td></tr>\n",
       "        <tr><td colspan='4'; style='text-align:right'>Device status updated 21.5 hours ago</td></tr></table>"
      ],
      "text/plain": [
       "<IPython.core.display.HTML object>"
      ]
     },
     "metadata": {},
     "output_type": "display_data"
    }
   ],
   "source": [
    "devices = get_devices(filters={\n",
    "    'vendor': 'AWS',\n",
    "    'provider': 'D-Wave',\n",
    "    'paradigm': 'quantum-annealer',\n",
    "    'status': 'ONLINE'\n",
    "})"
   ]
  },
  {
   "cell_type": "code",
   "execution_count": 9,
   "id": "d143afa1-4022-42ec-912e-1e035be3f478",
   "metadata": {},
   "outputs": [],
   "source": [
    "# The code in next two cells comes from qbraid-tutorials/amazon_braket_examples/quantum_annealing/Dwave_Anatomy.ipynb\n",
    "\n",
    "# simple QUBO preparation\n",
    "quadratic = {(0, 1): 1.0, (0,4): 2.0, (1, 2): 1.0, (1,4): 1.0, (2, 3): 1.0, (3, 4): 1.0}\n",
    "linear = {0: +1.0}\n",
    "offset = 0.0\n",
    "\n",
    "# set parameters\n",
    "num_reads = 10\n",
    "vartype = dimod.SPIN\n",
    "\n",
    "bqm = dimod.BinaryQuadraticModel(linear, quadratic, offset, vartype)"
   ]
  },
  {
   "cell_type": "code",
   "execution_count": 10,
   "id": "37c44d2d-5705-4509-8d8a-7c22541bf6b5",
   "metadata": {},
   "outputs": [
    {
     "name": "stdout",
     "output_type": "stream",
     "text": [
      "   0  1  2  3  4 energy num_oc.\n",
      "0 -1 -1 +1 -1 +1   -6.0      10\n",
      "['SPIN', 1 rows, 10 samples, 5 variables]\n",
      "Minimal energy: -6.0\n"
     ]
    }
   ],
   "source": [
    "# run classical simulated annealing\n",
    "sa_sampler = dimod.SimulatedAnnealingSampler()\n",
    "sa_response = sa_sampler.sample(bqm, num_reads=num_reads)\n",
    "\n",
    "print(sa_response.aggregate())\n",
    "min_energy = min(sa_response.data_vectors['energy'])\n",
    "print('Minimal energy:', min_energy)"
   ]
  },
  {
   "cell_type": "code",
   "execution_count": null,
   "id": "8cfbb227-7934-41ea-b07c-f0737fc09776",
   "metadata": {},
   "outputs": [],
   "source": [
    "# run on actual D-Wave quantum annealer\n",
    "qbraid_id = \"aws_dwave_advantage_system4\"\n",
    "quantum_annealer = device_wrapper(qbraid_id)\n",
    "pp(quantum_annealer.info)\n",
    "pp(quantum_annealer)"
   ]
  },
  {
   "cell_type": "code",
   "execution_count": null,
   "id": "75c2fb4b-e069-4759-bfee-f6e0ce5a3336",
   "metadata": {},
   "outputs": [],
   "source": [
    "print(type(quantum_annealer.vendor_dlo))\n",
    "print(quantum_annealer._arn)"
   ]
  },
  {
   "cell_type": "markdown",
   "id": "f46d16d0-23d8-4cc4-b6e0-06bcb6c7f00f",
   "metadata": {},
   "source": [
    "The functionality below (commented code) is not working yet, hence a workaround for accessing quantum annealer via qBraid SDK is needed:"
   ]
  },
  {
   "cell_type": "code",
   "execution_count": null,
   "id": "39ee0db1-8bc7-498c-b4a8-5e6c7d42bae3",
   "metadata": {},
   "outputs": [],
   "source": [
    "#qjob = quantum_annealer.run(bqm)"
   ]
  },
  {
   "cell_type": "code",
   "execution_count": null,
   "id": "dde7d98f-5202-4682-aa2f-9f8405a1b181",
   "metadata": {},
   "outputs": [],
   "source": [
    "# workaround - uploading task via Amazon Braket API:\n",
    "my_bucket = f\"amazon-braket-My-Test-Bucket-Name\"\n",
    "my_prefix = \"My-Test-Folder-Name\"\n",
    "s3_folder = (my_bucket, my_prefix)\n",
    "\n",
    "sampler = BraketDWaveSampler(s3_folder,device_arn=quantum_annealer._arn)\n",
    "sampler = EmbeddingComposite(sampler)"
   ]
  },
  {
   "cell_type": "code",
   "execution_count": null,
   "id": "3091f265-70ca-497e-8033-1f1443054cd8",
   "metadata": {},
   "outputs": [],
   "source": [
    "print(sampler)\n",
    "print(bqm)"
   ]
  },
  {
   "cell_type": "code",
   "execution_count": null,
   "id": "6e4c9aaf-ce25-4565-b02c-94a802c696d6",
   "metadata": {},
   "outputs": [],
   "source": [
    "qa_response = sampler.sample(bqm, num_reads=10)\n",
    "print(qa_response.info[\"taskMetadata\"][\"id\"])"
   ]
  },
  {
   "cell_type": "code",
   "execution_count": null,
   "id": "f03e89bf-8200-436b-8a06-1ff8d0760c83",
   "metadata": {},
   "outputs": [],
   "source": [
    "get_jobs(filters={\"qbraidDeviceId\": qbraid_id})"
   ]
  },
  {
   "cell_type": "code",
   "execution_count": null,
   "id": "6cd1afb9-1dbf-43ec-a0c7-139e6a9251b9",
   "metadata": {},
   "outputs": [],
   "source": [
    "saved_job_id = 'aws_dwave_advantage_system4-kmnalecz-qjob-su0nt0tt640yli2du4dp'\n",
    "qjob = job_wrapper(saved_job_id)\n",
    "qjob.wait_for_final_state()\n",
    "status = qjob.status()\n",
    "qresult = qjob.result()"
   ]
  },
  {
   "cell_type": "code",
   "execution_count": null,
   "id": "542bf4d0-3a5d-46a9-908f-a24f24369ce9",
   "metadata": {},
   "outputs": [],
   "source": [
    "print(status)\n",
    "print(type(qresult))\n",
    "print(qresult.__dict__)"
   ]
  }
 ],
 "metadata": {
  "kernelspec": {
   "display_name": "Python 3 [HAQS-22]",
   "language": "python",
   "name": "python3_haqs_dk5kt8"
  },
  "language_info": {
   "codemirror_mode": {
    "name": "ipython",
    "version": 3
   },
   "file_extension": ".py",
   "mimetype": "text/x-python",
   "name": "python",
   "nbconvert_exporter": "python",
   "pygments_lexer": "ipython3",
   "version": "3.9.10"
  }
 },
 "nbformat": 4,
 "nbformat_minor": 5
}
